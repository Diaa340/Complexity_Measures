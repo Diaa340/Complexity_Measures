{
  "nbformat": 4,
  "nbformat_minor": 0,
  "metadata": {
    "colab": {
      "provenance": []
    },
    "kernelspec": {
      "name": "python3",
      "display_name": "Python 3"
    },
    "language_info": {
      "name": "python"
    }
  },
  "cells": [
    {
      "cell_type": "markdown",
      "source": [
        "Authored by: Diaa Abuhani"
      ],
      "metadata": {
        "id": "DXTHSbj8N7uo"
      }
    },
    {
      "cell_type": "markdown",
      "source": [
        "\n",
        "**Data Complexity Measures** <br>\n",
        "Data Complexity refers to the study of the datasets used as an input to different classifiers. Complexity is influenced by factors such as the shape of the classes, the shape of the decision boundary, the overlap between classes, the proximity among classes, etc. In this Notebook we will go through all the available data complexity measures known as of today along with illustrative examples showing the strengths and weaknesses of each.\n"
      ],
      "metadata": {
        "id": "pixqtWgNMuS4"
      }
    },
    {
      "cell_type": "markdown",
      "source": [
        "Complexity Measures are dependent on four main characteristics: <br>\n",
        "\n",
        "1.   The number of instances.\n",
        "2.   The number of classes.\n",
        "3. The number of features.\n",
        "4. The instances distribution.\n",
        "\n",
        "and can be divided into three categories based on the main methodology used in each measure. The following sections analyze each of them accordingly.\n"
      ],
      "metadata": {
        "id": "pM6wS5wsN_Yy"
      }
    },
    {
      "cell_type": "markdown",
      "source": [
        "**(1) Measures of overlaps in feature values from different classes.**"
      ],
      "metadata": {
        "id": "M-hxJqPoOvFj"
      }
    },
    {
      "cell_type": "markdown",
      "source": [
        "Overlap measures focus on the effectiveness of a single feature dimension in seperating the classes (can be also the composite effects of a number of dimensions). This category includes:"
      ],
      "metadata": {
        "id": "ZNdnPXm0PRjL"
      }
    },
    {
      "cell_type": "markdown",
      "source": [
        "**1.1 Maximum Fisher’s discriminant ratio (noted as F1)** <br>\n",
        "\n",
        "F1 ratio (different from the accuracy F1 metric) was first introduced by Ho and Basu (2002) and it computes how seperated are two classes based on a specific feature. This is achieved by comparing the difference between the means with the sum of class variances. The $F_i$ score for a feature $i$ is given by the following equation. <br>\n",
        "\n",
        "$$\n",
        "F_i = \\frac{(\\mu_1 - \\mu_2)^2}{σ_1^2 + σ_2^2}\n",
        "$$\n",
        "\n",
        "Considering multidimensional problems, the maximum value of $F_i$ over all feature indicate the feature which contributes to the maximal discrimination and is referred to as $F_1$. Hence,\n",
        "\n",
        "$$\n",
        "F_1 = \\max(F_i)\n",
        "$$\n",
        "\n",
        "While Small values of $F_1$ represent strong overlapping. <br>\n",
        "\n",
        "For illustration Purposes IRIS dataset will be used in this notebook.\n"
      ],
      "metadata": {
        "id": "qwjW6Z4aPloJ"
      }
    },
    {
      "cell_type": "code",
      "execution_count": 195,
      "metadata": {
        "id": "Tbj_uB2PMoSU"
      },
      "outputs": [],
      "source": [
        "#loading the data and scaling it down using standard scaler\n",
        "from sklearn.discriminant_analysis import LinearDiscriminantAnalysis\n",
        "from sklearn.datasets import load_iris\n",
        "from sklearn.model_selection import train_test_split\n",
        "from sklearn.preprocessing import StandardScaler\n",
        "\n",
        "# Load Iris dataset as an example\n",
        "data = load_iris()\n",
        "X = data.data\n",
        "y = data.target"
      ]
    },
    {
      "cell_type": "markdown",
      "source": [
        "Now that we read the data, let's have a look at the four key charaterstics mentioned earlier <br>\n",
        "\n"
      ],
      "metadata": {
        "id": "QvXu-GOJWA8M"
      }
    },
    {
      "cell_type": "code",
      "source": [
        "import pandas as pd\n",
        "import matplotlib.pyplot as plt\n",
        "# Convert the bunch to a DataFrame\n",
        "iris_df = pd.DataFrame(data=data.data, columns=data.feature_names)\n",
        "\n",
        "# Add target and target_names to the DataFrame if needed\n",
        "iris_df['target'] = data.target\n",
        "iris_df['target_names'] = data.target_names[data.target]\n",
        "number_of_classes = len(iris_df['target'].unique())\n",
        "number_of_features = len(iris_df.drop(columns=['target', 'target_names']).columns)\n",
        "\n",
        "print('number_of_classes:', number_of_classes)\n",
        "print('number_of_features:', number_of_features)\n",
        "\n",
        "numeric_columns = iris_df.select_dtypes(include=['float64', 'int64']).columns\n",
        "\n",
        "# Plot histograms for each numeric feature in a single row\n",
        "fig, axes = plt.subplots(1, len(numeric_columns), figsize=(20, 3))\n",
        "\n",
        "for i, col in enumerate(numeric_columns):\n",
        "    iris_df[col].plot(kind='hist', bins=20, ax=axes[i], title=col)\n",
        "\n",
        "iris_df.describe().head(3)"
      ],
      "metadata": {
        "colab": {
          "base_uri": "https://localhost:8080/",
          "height": 479
        },
        "id": "y9EDmo5iN7NU",
        "outputId": "2e515543-0345-4a4f-e188-5a94672518d0"
      },
      "execution_count": 196,
      "outputs": [
        {
          "output_type": "stream",
          "name": "stdout",
          "text": [
            "number_of_classes: 3\n",
            "number_of_features: 4\n"
          ]
        },
        {
          "output_type": "execute_result",
          "data": {
            "text/plain": [
              "       sepal length (cm)  sepal width (cm)  petal length (cm)  \\\n",
              "count         150.000000        150.000000         150.000000   \n",
              "mean            5.843333          3.057333           3.758000   \n",
              "std             0.828066          0.435866           1.765298   \n",
              "\n",
              "       petal width (cm)      target  \n",
              "count        150.000000  150.000000  \n",
              "mean           1.199333    1.000000  \n",
              "std            0.762238    0.819232  "
            ],
            "text/html": [
              "\n",
              "  <div id=\"df-0590a6fd-4eb6-4a68-9206-928c6bcfec0e\" class=\"colab-df-container\">\n",
              "    <div>\n",
              "<style scoped>\n",
              "    .dataframe tbody tr th:only-of-type {\n",
              "        vertical-align: middle;\n",
              "    }\n",
              "\n",
              "    .dataframe tbody tr th {\n",
              "        vertical-align: top;\n",
              "    }\n",
              "\n",
              "    .dataframe thead th {\n",
              "        text-align: right;\n",
              "    }\n",
              "</style>\n",
              "<table border=\"1\" class=\"dataframe\">\n",
              "  <thead>\n",
              "    <tr style=\"text-align: right;\">\n",
              "      <th></th>\n",
              "      <th>sepal length (cm)</th>\n",
              "      <th>sepal width (cm)</th>\n",
              "      <th>petal length (cm)</th>\n",
              "      <th>petal width (cm)</th>\n",
              "      <th>target</th>\n",
              "    </tr>\n",
              "  </thead>\n",
              "  <tbody>\n",
              "    <tr>\n",
              "      <th>count</th>\n",
              "      <td>150.000000</td>\n",
              "      <td>150.000000</td>\n",
              "      <td>150.000000</td>\n",
              "      <td>150.000000</td>\n",
              "      <td>150.000000</td>\n",
              "    </tr>\n",
              "    <tr>\n",
              "      <th>mean</th>\n",
              "      <td>5.843333</td>\n",
              "      <td>3.057333</td>\n",
              "      <td>3.758000</td>\n",
              "      <td>1.199333</td>\n",
              "      <td>1.000000</td>\n",
              "    </tr>\n",
              "    <tr>\n",
              "      <th>std</th>\n",
              "      <td>0.828066</td>\n",
              "      <td>0.435866</td>\n",
              "      <td>1.765298</td>\n",
              "      <td>0.762238</td>\n",
              "      <td>0.819232</td>\n",
              "    </tr>\n",
              "  </tbody>\n",
              "</table>\n",
              "</div>\n",
              "    <div class=\"colab-df-buttons\">\n",
              "\n",
              "  <div class=\"colab-df-container\">\n",
              "    <button class=\"colab-df-convert\" onclick=\"convertToInteractive('df-0590a6fd-4eb6-4a68-9206-928c6bcfec0e')\"\n",
              "            title=\"Convert this dataframe to an interactive table.\"\n",
              "            style=\"display:none;\">\n",
              "\n",
              "  <svg xmlns=\"http://www.w3.org/2000/svg\" height=\"24px\" viewBox=\"0 -960 960 960\">\n",
              "    <path d=\"M120-120v-720h720v720H120Zm60-500h600v-160H180v160Zm220 220h160v-160H400v160Zm0 220h160v-160H400v160ZM180-400h160v-160H180v160Zm440 0h160v-160H620v160ZM180-180h160v-160H180v160Zm440 0h160v-160H620v160Z\"/>\n",
              "  </svg>\n",
              "    </button>\n",
              "\n",
              "  <style>\n",
              "    .colab-df-container {\n",
              "      display:flex;\n",
              "      gap: 12px;\n",
              "    }\n",
              "\n",
              "    .colab-df-convert {\n",
              "      background-color: #E8F0FE;\n",
              "      border: none;\n",
              "      border-radius: 50%;\n",
              "      cursor: pointer;\n",
              "      display: none;\n",
              "      fill: #1967D2;\n",
              "      height: 32px;\n",
              "      padding: 0 0 0 0;\n",
              "      width: 32px;\n",
              "    }\n",
              "\n",
              "    .colab-df-convert:hover {\n",
              "      background-color: #E2EBFA;\n",
              "      box-shadow: 0px 1px 2px rgba(60, 64, 67, 0.3), 0px 1px 3px 1px rgba(60, 64, 67, 0.15);\n",
              "      fill: #174EA6;\n",
              "    }\n",
              "\n",
              "    .colab-df-buttons div {\n",
              "      margin-bottom: 4px;\n",
              "    }\n",
              "\n",
              "    [theme=dark] .colab-df-convert {\n",
              "      background-color: #3B4455;\n",
              "      fill: #D2E3FC;\n",
              "    }\n",
              "\n",
              "    [theme=dark] .colab-df-convert:hover {\n",
              "      background-color: #434B5C;\n",
              "      box-shadow: 0px 1px 3px 1px rgba(0, 0, 0, 0.15);\n",
              "      filter: drop-shadow(0px 1px 2px rgba(0, 0, 0, 0.3));\n",
              "      fill: #FFFFFF;\n",
              "    }\n",
              "  </style>\n",
              "\n",
              "    <script>\n",
              "      const buttonEl =\n",
              "        document.querySelector('#df-0590a6fd-4eb6-4a68-9206-928c6bcfec0e button.colab-df-convert');\n",
              "      buttonEl.style.display =\n",
              "        google.colab.kernel.accessAllowed ? 'block' : 'none';\n",
              "\n",
              "      async function convertToInteractive(key) {\n",
              "        const element = document.querySelector('#df-0590a6fd-4eb6-4a68-9206-928c6bcfec0e');\n",
              "        const dataTable =\n",
              "          await google.colab.kernel.invokeFunction('convertToInteractive',\n",
              "                                                    [key], {});\n",
              "        if (!dataTable) return;\n",
              "\n",
              "        const docLinkHtml = 'Like what you see? Visit the ' +\n",
              "          '<a target=\"_blank\" href=https://colab.research.google.com/notebooks/data_table.ipynb>data table notebook</a>'\n",
              "          + ' to learn more about interactive tables.';\n",
              "        element.innerHTML = '';\n",
              "        dataTable['output_type'] = 'display_data';\n",
              "        await google.colab.output.renderOutput(dataTable, element);\n",
              "        const docLink = document.createElement('div');\n",
              "        docLink.innerHTML = docLinkHtml;\n",
              "        element.appendChild(docLink);\n",
              "      }\n",
              "    </script>\n",
              "  </div>\n",
              "\n",
              "\n",
              "<div id=\"df-5858fb59-9829-4fc7-bb21-eac9c88a1599\">\n",
              "  <button class=\"colab-df-quickchart\" onclick=\"quickchart('df-5858fb59-9829-4fc7-bb21-eac9c88a1599')\"\n",
              "            title=\"Suggest charts\"\n",
              "            style=\"display:none;\">\n",
              "\n",
              "<svg xmlns=\"http://www.w3.org/2000/svg\" height=\"24px\"viewBox=\"0 0 24 24\"\n",
              "     width=\"24px\">\n",
              "    <g>\n",
              "        <path d=\"M19 3H5c-1.1 0-2 .9-2 2v14c0 1.1.9 2 2 2h14c1.1 0 2-.9 2-2V5c0-1.1-.9-2-2-2zM9 17H7v-7h2v7zm4 0h-2V7h2v10zm4 0h-2v-4h2v4z\"/>\n",
              "    </g>\n",
              "</svg>\n",
              "  </button>\n",
              "\n",
              "<style>\n",
              "  .colab-df-quickchart {\n",
              "      --bg-color: #E8F0FE;\n",
              "      --fill-color: #1967D2;\n",
              "      --hover-bg-color: #E2EBFA;\n",
              "      --hover-fill-color: #174EA6;\n",
              "      --disabled-fill-color: #AAA;\n",
              "      --disabled-bg-color: #DDD;\n",
              "  }\n",
              "\n",
              "  [theme=dark] .colab-df-quickchart {\n",
              "      --bg-color: #3B4455;\n",
              "      --fill-color: #D2E3FC;\n",
              "      --hover-bg-color: #434B5C;\n",
              "      --hover-fill-color: #FFFFFF;\n",
              "      --disabled-bg-color: #3B4455;\n",
              "      --disabled-fill-color: #666;\n",
              "  }\n",
              "\n",
              "  .colab-df-quickchart {\n",
              "    background-color: var(--bg-color);\n",
              "    border: none;\n",
              "    border-radius: 50%;\n",
              "    cursor: pointer;\n",
              "    display: none;\n",
              "    fill: var(--fill-color);\n",
              "    height: 32px;\n",
              "    padding: 0;\n",
              "    width: 32px;\n",
              "  }\n",
              "\n",
              "  .colab-df-quickchart:hover {\n",
              "    background-color: var(--hover-bg-color);\n",
              "    box-shadow: 0 1px 2px rgba(60, 64, 67, 0.3), 0 1px 3px 1px rgba(60, 64, 67, 0.15);\n",
              "    fill: var(--button-hover-fill-color);\n",
              "  }\n",
              "\n",
              "  .colab-df-quickchart-complete:disabled,\n",
              "  .colab-df-quickchart-complete:disabled:hover {\n",
              "    background-color: var(--disabled-bg-color);\n",
              "    fill: var(--disabled-fill-color);\n",
              "    box-shadow: none;\n",
              "  }\n",
              "\n",
              "  .colab-df-spinner {\n",
              "    border: 2px solid var(--fill-color);\n",
              "    border-color: transparent;\n",
              "    border-bottom-color: var(--fill-color);\n",
              "    animation:\n",
              "      spin 1s steps(1) infinite;\n",
              "  }\n",
              "\n",
              "  @keyframes spin {\n",
              "    0% {\n",
              "      border-color: transparent;\n",
              "      border-bottom-color: var(--fill-color);\n",
              "      border-left-color: var(--fill-color);\n",
              "    }\n",
              "    20% {\n",
              "      border-color: transparent;\n",
              "      border-left-color: var(--fill-color);\n",
              "      border-top-color: var(--fill-color);\n",
              "    }\n",
              "    30% {\n",
              "      border-color: transparent;\n",
              "      border-left-color: var(--fill-color);\n",
              "      border-top-color: var(--fill-color);\n",
              "      border-right-color: var(--fill-color);\n",
              "    }\n",
              "    40% {\n",
              "      border-color: transparent;\n",
              "      border-right-color: var(--fill-color);\n",
              "      border-top-color: var(--fill-color);\n",
              "    }\n",
              "    60% {\n",
              "      border-color: transparent;\n",
              "      border-right-color: var(--fill-color);\n",
              "    }\n",
              "    80% {\n",
              "      border-color: transparent;\n",
              "      border-right-color: var(--fill-color);\n",
              "      border-bottom-color: var(--fill-color);\n",
              "    }\n",
              "    90% {\n",
              "      border-color: transparent;\n",
              "      border-bottom-color: var(--fill-color);\n",
              "    }\n",
              "  }\n",
              "</style>\n",
              "\n",
              "  <script>\n",
              "    async function quickchart(key) {\n",
              "      const quickchartButtonEl =\n",
              "        document.querySelector('#' + key + ' button');\n",
              "      quickchartButtonEl.disabled = true;  // To prevent multiple clicks.\n",
              "      quickchartButtonEl.classList.add('colab-df-spinner');\n",
              "      try {\n",
              "        const charts = await google.colab.kernel.invokeFunction(\n",
              "            'suggestCharts', [key], {});\n",
              "      } catch (error) {\n",
              "        console.error('Error during call to suggestCharts:', error);\n",
              "      }\n",
              "      quickchartButtonEl.classList.remove('colab-df-spinner');\n",
              "      quickchartButtonEl.classList.add('colab-df-quickchart-complete');\n",
              "    }\n",
              "    (() => {\n",
              "      let quickchartButtonEl =\n",
              "        document.querySelector('#df-5858fb59-9829-4fc7-bb21-eac9c88a1599 button');\n",
              "      quickchartButtonEl.style.display =\n",
              "        google.colab.kernel.accessAllowed ? 'block' : 'none';\n",
              "    })();\n",
              "  </script>\n",
              "</div>\n",
              "    </div>\n",
              "  </div>\n"
            ]
          },
          "metadata": {},
          "execution_count": 196
        },
        {
          "output_type": "display_data",
          "data": {
            "text/plain": [
              "<Figure size 2000x300 with 5 Axes>"
            ],
            "image/png": "[encoded data removed]"
          },
          "metadata": {}
        }
      ]
    },
    {
      "cell_type": "markdown",
      "source": [
        "As we can see, the IRIS dataset contains 3 classes (multiclass problem) which tebds to be more complex than binary problem. The dataset also contains a small number of features (4) and number of instances (150). In terms of instaces distribution, the first two features seems to follow a normal distribution while the last two seems to be skewed to the left. The target shows that the data is balanced. <br>\n",
        "\n",
        "Now let us calculate the $F_i$ score for each feature."
      ],
      "metadata": {
        "id": "EbVfg_LAZ_w-"
      }
    },
    {
      "cell_type": "code",
      "source": [
        "# Import necessary libraries\n",
        "import pandas as pd\n",
        "import numpy as np\n",
        "from sklearn.preprocessing import StandardScaler\n",
        "from sklearn.datasets import load_iris\n",
        "\n",
        "# Load the Iris dataset\n",
        "iris = load_iris()\n",
        "\n",
        "# Create a DataFrame\n",
        "columns = ['sepal_length', 'sepal_width', 'petal_length', 'petal_width', 'target']\n",
        "iris_df = pd.DataFrame(data=iris.data, columns=columns[:-1])\n",
        "iris_df['target'] = iris.target\n",
        "\n",
        "# Scale the entire dataset using StandardScaler\n",
        "scaler = StandardScaler()\n",
        "iris_scaled = pd.DataFrame(scaler.fit_transform(iris_df.iloc[:, :-1]), columns=columns[:-1])\n",
        "iris_scaled['target'] = iris_df['target']\n",
        "\n",
        "# Calculate mean and variance for each feature and each class\n",
        "class_means = iris_scaled.groupby('target').mean()\n",
        "class_variances = iris_scaled.groupby('target').var()\n",
        "\n",
        "# Print the results\n",
        "print(\"Mean for each feature and each class:\")\n",
        "print(class_means)\n",
        "\n",
        "print(\"\\nVariance for each feature and each class:\")\n",
        "print(class_variances)\n"
      ],
      "metadata": {
        "colab": {
          "base_uri": "https://localhost:8080/"
        },
        "id": "CCjSZIGklF24",
        "outputId": "3dde794c-7adf-4bf6-d024-82182431ee73"
      },
      "execution_count": 197,
      "outputs": [
        {
          "output_type": "stream",
          "name": "stdout",
          "text": [
            "Mean for each feature and each class:\n",
            "        sepal_length  sepal_width  petal_length  petal_width\n",
            "target                                                      \n",
            "0          -1.014579     0.853263     -1.304987    -1.254893\n",
            "1           0.112282    -0.661432      0.285324     0.166734\n",
            "2           0.902297    -0.191831      1.019663     1.088159\n",
            "\n",
            "Variance for each feature and each class:\n",
            "        sepal_length  sepal_width  petal_length  petal_width\n",
            "target                                                      \n",
            "0           0.182418     0.761420      0.009743     0.019244\n",
            "1           0.391167     0.521795      0.071335     0.067759\n",
            "2           0.593642     0.551123      0.098397     0.130702\n"
          ]
        }
      ]
    },
    {
      "cell_type": "code",
      "source": [
        "Fs = []\n",
        "for col in class_means.columns:\n",
        "  F = 0\n",
        "  for i in range(len(class_means[col])):\n",
        "      for j in range(i + 1, len(class_means[col])):\n",
        "          m_diff = (class_means[col][j] - class_means[col][i]) ** 2\n",
        "          v_summ = class_variances[col][j] + class_variances[col][i]\n",
        "          Fi = m_diff / v_summ\n",
        "          F += Fi\n",
        "  Fs.append(F)\n",
        "print(Fs)\n",
        "print(\"F1 = \", np.array(Fs).max())"
      ],
      "metadata": {
        "colab": {
          "base_uri": "https://localhost:8080/"
        },
        "id": "gna1Kgkmvfvu",
        "outputId": "1a05eb21-58dc-4395-960c-fe9db619bd23"
      },
      "execution_count": 198,
      "outputs": [
        {
          "output_type": "stream",
          "name": "stdout",
          "text": [
            "[7.582273507540461, 2.825609473089161, 84.34297915349867, 64.11991020776048]\n",
            "F1 =  84.34297915349867\n"
          ]
        }
      ]
    },
    {
      "cell_type": "markdown",
      "source": [
        "Hence, the $F_1$ score for IRIS dataset 84.34 which means that Feature 2 \"Petal Length\" provides the highest discrimination between the three classes. While feature 1 \"sepal_width\" provides the highest overlapping. Let us visualize that and see if it makes sense."
      ],
      "metadata": {
        "id": "Ycg_T151gfS9"
      }
    },
    {
      "cell_type": "code",
      "source": [
        "import seaborn as sns\n",
        "import matplotlib.pyplot as plt\n",
        "from sklearn.datasets import load_iris\n",
        "\n",
        "\n",
        "# Set the style of seaborn\n",
        "sns.set(style=\"ticks\")\n",
        "\n",
        "# Create separate scatter plots for each feature against the target variable\n",
        "features = [\"sepal_length\", \"sepal_width\", \"petal_length\", \"petal_width\"]\n",
        "\n",
        "fig, axes = plt.subplots(1, len(features), figsize=(24, 4))\n",
        "\n",
        "for i, feature in enumerate(features):\n",
        "    sns.scatterplot(x=feature, y=\"target\", data=iris_scaled, markers=[\"o\", \"s\", \"D\"], ax=axes[i])\n",
        "    axes[i].set_title(f\"{feature} vs Target\")\n",
        "\n",
        "plt.show()"
      ],
      "metadata": {
        "colab": {
          "base_uri": "https://localhost:8080/",
          "height": 387
        },
        "id": "K5CELU5VgQBM",
        "outputId": "332cf327-d8d2-4d05-faa3-6df04db655fe"
      },
      "execution_count": 210,
      "outputs": [
        {
          "output_type": "display_data",
          "data": {
            "text/plain": [
              "<Figure size 2400x400 with 4 Axes>"
            ],
            "image/png": "[encoded data removed]"
          },
          "metadata": {}
        }
      ]
    },
    {
      "cell_type": "markdown",
      "source": [
        "The results are in-line with the graphs above. As can be seen, the feature \"petal_length\" had the highest F1 score while \"sepal_with\" indicated the highest overlap. Looking at the graphs above, the small distances between instances of each class using feature \"petal_length\" makes it easier to classify using simple approaches (linear model) when compared to other scatter plots. This is also due to the minimal overlap between the instances at each class <br>\n",
        "\n",
        "**Note: In a multi-dimensional problem like the one above, the Maximum F score determines the complexity of the data regardless of the other features values.**"
      ],
      "metadata": {
        "id": "a3WjOjIdXSb7"
      }
    },
    {
      "cell_type": "markdown",
      "source": [
        "**(2) Volume of overlap region (noted as F2)**"
      ],
      "metadata": {
        "id": "cYgNxMXOW2gV"
      }
    },
    {
      "cell_type": "markdown",
      "source": [
        "To further understand the previous example, a very intuitive thing to do is to calculate the overlap between these classes numerically. This can be done by simply calculating the spread distance of each class by finding the difference between the two end points. This can be formulated as following:\n",
        "\n",
        "\n",
        "$$\n",
        "F_2 = \\prod_{i} \\frac{\\min(\\max(f_i, c_1), \\max(f_i, c_2)) - \\max(\\min(f_i, c_1), \\min(f_i, c_2))}{\\max(\\max(f_i, c_1)\\max(f_i, c_2)) - \\min(\\min(f_i, c_1), \\min(f_i, c_2))}\n",
        "$$"
      ],
      "metadata": {
        "id": "KE-YawKDTcbo"
      }
    },
    {
      "cell_type": "code",
      "source": [
        "stats = iris_scaled.groupby('target').describe().loc[:, (slice(None), ['min', 'max'])]\n",
        "stats"
      ],
      "metadata": {
        "colab": {
          "base_uri": "https://localhost:8080/",
          "height": 206
        },
        "id": "J7CKJ51GVt-H",
        "outputId": "cd569efa-8504-4569-a39f-f11594b7a181"
      },
      "execution_count": 289,
      "outputs": [
        {
          "output_type": "execute_result",
          "data": {
            "text/plain": [
              "           sepal_length           sepal_width           petal_length  \\\n",
              "                    min       max         min       max          min   \n",
              "target                                                                 \n",
              "setosa        -1.870024 -0.052506   -1.743357  3.090775    -1.567576   \n",
              "versicolor    -1.143017  1.401508   -2.433947  0.788808    -0.430828   \n",
              "virginica     -1.143017  2.492019   -1.973554  1.709595     0.421734   \n",
              "\n",
              "                     petal_width            \n",
              "                 max         min       max  \n",
              "target                                      \n",
              "setosa     -1.056039   -1.447076 -0.788916  \n",
              "versicolor  0.762758   -0.262387  0.790671  \n",
              "virginica   1.785832    0.264142  1.712096  "
            ],
            "text/html": [
              "\n",
              "  <div id=\"df-63286048-5b04-4744-bb26-1b48ee86b89c\" class=\"colab-df-container\">\n",
              "    <div>\n",
              "<style scoped>\n",
              "    .dataframe tbody tr th:only-of-type {\n",
              "        vertical-align: middle;\n",
              "    }\n",
              "\n",
              "    .dataframe tbody tr th {\n",
              "        vertical-align: top;\n",
              "    }\n",
              "\n",
              "    .dataframe thead tr th {\n",
              "        text-align: left;\n",
              "    }\n",
              "\n",
              "    .dataframe thead tr:last-of-type th {\n",
              "        text-align: right;\n",
              "    }\n",
              "</style>\n",
              "<table border=\"1\" class=\"dataframe\">\n",
              "  <thead>\n",
              "    <tr>\n",
              "      <th></th>\n",
              "      <th colspan=\"2\" halign=\"left\">sepal_length</th>\n",
              "      <th colspan=\"2\" halign=\"left\">sepal_width</th>\n",
              "      <th colspan=\"2\" halign=\"left\">petal_length</th>\n",
              "      <th colspan=\"2\" halign=\"left\">petal_width</th>\n",
              "    </tr>\n",
              "    <tr>\n",
              "      <th></th>\n",
              "      <th>min</th>\n",
              "      <th>max</th>\n",
              "      <th>min</th>\n",
              "      <th>max</th>\n",
              "      <th>min</th>\n",
              "      <th>max</th>\n",
              "      <th>min</th>\n",
              "      <th>max</th>\n",
              "    </tr>\n",
              "    <tr>\n",
              "      <th>target</th>\n",
              "      <th></th>\n",
              "      <th></th>\n",
              "      <th></th>\n",
              "      <th></th>\n",
              "      <th></th>\n",
              "      <th></th>\n",
              "      <th></th>\n",
              "      <th></th>\n",
              "    </tr>\n",
              "  </thead>\n",
              "  <tbody>\n",
              "    <tr>\n",
              "      <th>setosa</th>\n",
              "      <td>-1.870024</td>\n",
              "      <td>-0.052506</td>\n",
              "      <td>-1.743357</td>\n",
              "      <td>3.090775</td>\n",
              "      <td>-1.567576</td>\n",
              "      <td>-1.056039</td>\n",
              "      <td>-1.447076</td>\n",
              "      <td>-0.788916</td>\n",
              "    </tr>\n",
              "    <tr>\n",
              "      <th>versicolor</th>\n",
              "      <td>-1.143017</td>\n",
              "      <td>1.401508</td>\n",
              "      <td>-2.433947</td>\n",
              "      <td>0.788808</td>\n",
              "      <td>-0.430828</td>\n",
              "      <td>0.762758</td>\n",
              "      <td>-0.262387</td>\n",
              "      <td>0.790671</td>\n",
              "    </tr>\n",
              "    <tr>\n",
              "      <th>virginica</th>\n",
              "      <td>-1.143017</td>\n",
              "      <td>2.492019</td>\n",
              "      <td>-1.973554</td>\n",
              "      <td>1.709595</td>\n",
              "      <td>0.421734</td>\n",
              "      <td>1.785832</td>\n",
              "      <td>0.264142</td>\n",
              "      <td>1.712096</td>\n",
              "    </tr>\n",
              "  </tbody>\n",
              "</table>\n",
              "</div>\n",
              "    <div class=\"colab-df-buttons\">\n",
              "\n",
              "  <div class=\"colab-df-container\">\n",
              "    <button class=\"colab-df-convert\" onclick=\"convertToInteractive('df-63286048-5b04-4744-bb26-1b48ee86b89c')\"\n",
              "            title=\"Convert this dataframe to an interactive table.\"\n",
              "            style=\"display:none;\">\n",
              "\n",
              "  <svg xmlns=\"http://www.w3.org/2000/svg\" height=\"24px\" viewBox=\"0 -960 960 960\">\n",
              "    <path d=\"M120-120v-720h720v720H120Zm60-500h600v-160H180v160Zm220 220h160v-160H400v160Zm0 220h160v-160H400v160ZM180-400h160v-160H180v160Zm440 0h160v-160H620v160ZM180-180h160v-160H180v160Zm440 0h160v-160H620v160Z\"/>\n",
              "  </svg>\n",
              "    </button>\n",
              "\n",
              "  <style>\n",
              "    .colab-df-container {\n",
              "      display:flex;\n",
              "      gap: 12px;\n",
              "    }\n",
              "\n",
              "    .colab-df-convert {\n",
              "      background-color: #E8F0FE;\n",
              "      border: none;\n",
              "      border-radius: 50%;\n",
              "      cursor: pointer;\n",
              "      display: none;\n",
              "      fill: #1967D2;\n",
              "      height: 32px;\n",
              "      padding: 0 0 0 0;\n",
              "      width: 32px;\n",
              "    }\n",
              "\n",
              "    .colab-df-convert:hover {\n",
              "      background-color: #E2EBFA;\n",
              "      box-shadow: 0px 1px 2px rgba(60, 64, 67, 0.3), 0px 1px 3px 1px rgba(60, 64, 67, 0.15);\n",
              "      fill: #174EA6;\n",
              "    }\n",
              "\n",
              "    .colab-df-buttons div {\n",
              "      margin-bottom: 4px;\n",
              "    }\n",
              "\n",
              "    [theme=dark] .colab-df-convert {\n",
              "      background-color: #3B4455;\n",
              "      fill: #D2E3FC;\n",
              "    }\n",
              "\n",
              "    [theme=dark] .colab-df-convert:hover {\n",
              "      background-color: #434B5C;\n",
              "      box-shadow: 0px 1px 3px 1px rgba(0, 0, 0, 0.15);\n",
              "      filter: drop-shadow(0px 1px 2px rgba(0, 0, 0, 0.3));\n",
              "      fill: #FFFFFF;\n",
              "    }\n",
              "  </style>\n",
              "\n",
              "    <script>\n",
              "      const buttonEl =\n",
              "        document.querySelector('#df-63286048-5b04-4744-bb26-1b48ee86b89c button.colab-df-convert');\n",
              "      buttonEl.style.display =\n",
              "        google.colab.kernel.accessAllowed ? 'block' : 'none';\n",
              "\n",
              "      async function convertToInteractive(key) {\n",
              "        const element = document.querySelector('#df-63286048-5b04-4744-bb26-1b48ee86b89c');\n",
              "        const dataTable =\n",
              "          await google.colab.kernel.invokeFunction('convertToInteractive',\n",
              "                                                    [key], {});\n",
              "        if (!dataTable) return;\n",
              "\n",
              "        const docLinkHtml = 'Like what you see? Visit the ' +\n",
              "          '<a target=\"_blank\" href=https://colab.research.google.com/notebooks/data_table.ipynb>data table notebook</a>'\n",
              "          + ' to learn more about interactive tables.';\n",
              "        element.innerHTML = '';\n",
              "        dataTable['output_type'] = 'display_data';\n",
              "        await google.colab.output.renderOutput(dataTable, element);\n",
              "        const docLink = document.createElement('div');\n",
              "        docLink.innerHTML = docLinkHtml;\n",
              "        element.appendChild(docLink);\n",
              "      }\n",
              "    </script>\n",
              "  </div>\n",
              "\n",
              "\n",
              "<div id=\"df-46f84bc9-a4f1-4941-9f23-25591ade9691\">\n",
              "  <button class=\"colab-df-quickchart\" onclick=\"quickchart('df-46f84bc9-a4f1-4941-9f23-25591ade9691')\"\n",
              "            title=\"Suggest charts\"\n",
              "            style=\"display:none;\">\n",
              "\n",
              "<svg xmlns=\"http://www.w3.org/2000/svg\" height=\"24px\"viewBox=\"0 0 24 24\"\n",
              "     width=\"24px\">\n",
              "    <g>\n",
              "        <path d=\"M19 3H5c-1.1 0-2 .9-2 2v14c0 1.1.9 2 2 2h14c1.1 0 2-.9 2-2V5c0-1.1-.9-2-2-2zM9 17H7v-7h2v7zm4 0h-2V7h2v10zm4 0h-2v-4h2v4z\"/>\n",
              "    </g>\n",
              "</svg>\n",
              "  </button>\n",
              "\n",
              "<style>\n",
              "  .colab-df-quickchart {\n",
              "      --bg-color: #E8F0FE;\n",
              "      --fill-color: #1967D2;\n",
              "      --hover-bg-color: #E2EBFA;\n",
              "      --hover-fill-color: #174EA6;\n",
              "      --disabled-fill-color: #AAA;\n",
              "      --disabled-bg-color: #DDD;\n",
              "  }\n",
              "\n",
              "  [theme=dark] .colab-df-quickchart {\n",
              "      --bg-color: #3B4455;\n",
              "      --fill-color: #D2E3FC;\n",
              "      --hover-bg-color: #434B5C;\n",
              "      --hover-fill-color: #FFFFFF;\n",
              "      --disabled-bg-color: #3B4455;\n",
              "      --disabled-fill-color: #666;\n",
              "  }\n",
              "\n",
              "  .colab-df-quickchart {\n",
              "    background-color: var(--bg-color);\n",
              "    border: none;\n",
              "    border-radius: 50%;\n",
              "    cursor: pointer;\n",
              "    display: none;\n",
              "    fill: var(--fill-color);\n",
              "    height: 32px;\n",
              "    padding: 0;\n",
              "    width: 32px;\n",
              "  }\n",
              "\n",
              "  .colab-df-quickchart:hover {\n",
              "    background-color: var(--hover-bg-color);\n",
              "    box-shadow: 0 1px 2px rgba(60, 64, 67, 0.3), 0 1px 3px 1px rgba(60, 64, 67, 0.15);\n",
              "    fill: var(--button-hover-fill-color);\n",
              "  }\n",
              "\n",
              "  .colab-df-quickchart-complete:disabled,\n",
              "  .colab-df-quickchart-complete:disabled:hover {\n",
              "    background-color: var(--disabled-bg-color);\n",
              "    fill: var(--disabled-fill-color);\n",
              "    box-shadow: none;\n",
              "  }\n",
              "\n",
              "  .colab-df-spinner {\n",
              "    border: 2px solid var(--fill-color);\n",
              "    border-color: transparent;\n",
              "    border-bottom-color: var(--fill-color);\n",
              "    animation:\n",
              "      spin 1s steps(1) infinite;\n",
              "  }\n",
              "\n",
              "  @keyframes spin {\n",
              "    0% {\n",
              "      border-color: transparent;\n",
              "      border-bottom-color: var(--fill-color);\n",
              "      border-left-color: var(--fill-color);\n",
              "    }\n",
              "    20% {\n",
              "      border-color: transparent;\n",
              "      border-left-color: var(--fill-color);\n",
              "      border-top-color: var(--fill-color);\n",
              "    }\n",
              "    30% {\n",
              "      border-color: transparent;\n",
              "      border-left-color: var(--fill-color);\n",
              "      border-top-color: var(--fill-color);\n",
              "      border-right-color: var(--fill-color);\n",
              "    }\n",
              "    40% {\n",
              "      border-color: transparent;\n",
              "      border-right-color: var(--fill-color);\n",
              "      border-top-color: var(--fill-color);\n",
              "    }\n",
              "    60% {\n",
              "      border-color: transparent;\n",
              "      border-right-color: var(--fill-color);\n",
              "    }\n",
              "    80% {\n",
              "      border-color: transparent;\n",
              "      border-right-color: var(--fill-color);\n",
              "      border-bottom-color: var(--fill-color);\n",
              "    }\n",
              "    90% {\n",
              "      border-color: transparent;\n",
              "      border-bottom-color: var(--fill-color);\n",
              "    }\n",
              "  }\n",
              "</style>\n",
              "\n",
              "  <script>\n",
              "    async function quickchart(key) {\n",
              "      const quickchartButtonEl =\n",
              "        document.querySelector('#' + key + ' button');\n",
              "      quickchartButtonEl.disabled = true;  // To prevent multiple clicks.\n",
              "      quickchartButtonEl.classList.add('colab-df-spinner');\n",
              "      try {\n",
              "        const charts = await google.colab.kernel.invokeFunction(\n",
              "            'suggestCharts', [key], {});\n",
              "      } catch (error) {\n",
              "        console.error('Error during call to suggestCharts:', error);\n",
              "      }\n",
              "      quickchartButtonEl.classList.remove('colab-df-spinner');\n",
              "      quickchartButtonEl.classList.add('colab-df-quickchart-complete');\n",
              "    }\n",
              "    (() => {\n",
              "      let quickchartButtonEl =\n",
              "        document.querySelector('#df-46f84bc9-a4f1-4941-9f23-25591ade9691 button');\n",
              "      quickchartButtonEl.style.display =\n",
              "        google.colab.kernel.accessAllowed ? 'block' : 'none';\n",
              "    })();\n",
              "  </script>\n",
              "</div>\n",
              "    </div>\n",
              "  </div>\n"
            ]
          },
          "metadata": {},
          "execution_count": 289
        }
      ]
    },
    {
      "cell_type": "code",
      "source": [
        "F2 = 1\n",
        "for feature in iris_scaled.drop(columns='target').columns:\n",
        "  for i in range(len(stats[feature]['min'])):\n",
        "    for j in range(len(stats[feature]['min'])):\n",
        "      if i != j:\n",
        "        min1 = stats[feature]['min'][i]\n",
        "        min2 = stats[feature]['min'][j]\n",
        "        max1 = stats[feature]['max'][i]\n",
        "        max2 = stats[feature]['max'][j]\n",
        "        nom = min(max1, max2) - max(min1, min2)\n",
        "        dom = max(max1, max2) - min(min1, min2)\n",
        "        F2i = nom / dom\n",
        "  F2 = F2 * F2i\n",
        "  print(\"updated F2 score:\", F2)\n",
        "print(\"F2 score:\",F2)"
      ],
      "metadata": {
        "colab": {
          "base_uri": "https://localhost:8080/"
        },
        "id": "pPPiwUC3noyU",
        "outputId": "a1e624ea-04ae-4a07-9cb5-af0132cb12e8"
      },
      "execution_count": 313,
      "outputs": [
        {
          "output_type": "stream",
          "name": "stdout",
          "text": [
            "updated F2 score: 0.6999999999999998\n",
            "updated F2 score: 0.4666666666666666\n",
            "updated F2 score: 0.07179487179487172\n",
            "updated F2 score: 0.019145299145299128\n",
            "F2 score: 0.019145299145299128\n"
          ]
        }
      ]
    },
    {
      "cell_type": "markdown",
      "source": [
        "A low $F_2$ Score indicates small overlap volume. The range of the $F_2$ metric is [0, 1]."
      ],
      "metadata": {
        "id": "h0pxFjwEe21q"
      }
    },
    {
      "cell_type": "markdown",
      "source": [
        "**(3) Maximal (individual) feature efficiency (noted as F3)** <br>\n",
        "\n",
        "The third and last overlapping measure is concerned with the number of instances that do not fall within the range of overlap. Small values of $F_3$ represents high overlap and hence difficult problem. As its a fraction, the value of $F_3$ ranges between [0,1]. To calculate this one can simply find the second max and min then find the count of the instances outside that range and divide it by the number of instances. I am not exactly sure how that would be put into a mathematical equation but yeah it should work 😆. <br>\n",
        "\n",
        "Here is my shot on this: <br>\n",
        "$$\n",
        "F_3 = \\frac{\\#x_i \\quad ∀ \\quad x_i \\in (\\min_2 < x_i < \\max_2)}{\\#x_i}\n",
        "$$\n"
      ],
      "metadata": {
        "id": "APc_cIFMt8S4"
      }
    },
    {
      "cell_type": "code",
      "source": [
        "F3 = []\n",
        "for feature in iris_scaled.drop(columns='target').columns:\n",
        "  # Finding the second minimum value\n",
        "  second_min = stats[feature]['min'].nsmallest(2).iloc[-1]\n",
        "\n",
        "  # Finding the second maximum value\n",
        "  second_max =  stats[feature]['max'].nlargest(2).iloc[-1]\n",
        "\n",
        "  total_instances = iris_scaled.count()[0]\n",
        "\n",
        "  out_pts = ( iris_scaled[feature] > second_max).sum() + ( iris_scaled[feature] < second_min).sum()\n",
        "\n",
        "  F3i = out_pts / total_instances\n",
        "  F3.append(F3i)\n",
        "  print('F3 for feature', feature, '=', F3i)\n",
        "\n",
        "print('F3 = ', np.array(F3).max())"
      ],
      "metadata": {
        "colab": {
          "base_uri": "https://localhost:8080/"
        },
        "id": "57ixlkz9uHl2",
        "outputId": "703bd663-96e6-4716-c698-42daf6a20c6a"
      },
      "execution_count": 321,
      "outputs": [
        {
          "output_type": "stream",
          "name": "stdout",
          "text": [
            "F3 for feature sepal_length = 0.18666666666666668\n",
            "F3 for feature sepal_width = 0.04666666666666667\n",
            "F3 for feature petal_length = 0.56\n",
            "F3 for feature petal_width = 0.56\n",
            "F3 =  0.56\n"
          ]
        }
      ]
    },
    {
      "cell_type": "markdown",
      "source": [
        "$F_3$ shows that feature 2 and 3 can discriminate as much as 56% of the points as they are not overlapping at all which is consistent with the findings from $F_1$ and $F_2$."
      ],
      "metadata": {
        "id": "8dza9y3pz7Ot"
      }
    }
  ]
}
